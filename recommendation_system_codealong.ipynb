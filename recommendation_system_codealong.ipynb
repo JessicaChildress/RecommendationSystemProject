{
 "cells": [
  {
   "cell_type": "markdown",
   "metadata": {},
   "source": [
    "# Recommendation System Using Streaming Data\n",
    "\n",
    "source: https://www.datacamp.com/tutorial/streaming-platform-analysis "
   ]
  },
  {
   "cell_type": "code",
   "execution_count": 1,
   "metadata": {},
   "outputs": [],
   "source": [
    "# Import required libraries\n",
    "import numpy as np\n",
    "import pandas as pd\n",
    "import matplotlib.pyplot as plt\n",
    "import seaborn as sns\n",
    "from sklearn.feature_extraction.text import TfidfVectorizer\n",
    "from nltk.tokenize import RegexpTokenizer\n",
    "# import numpy as np\n",
    "from sklearn import preprocessing\n",
    "from scipy.sparse import hstack\n",
    "# import pandas_profiling"
   ]
  },
  {
   "cell_type": "code",
   "execution_count": 2,
   "metadata": {},
   "outputs": [],
   "source": [
    "# Load the dataset\n",
    "df = pd.read_csv('tvshows.csv')\n",
    "df = df.iloc[:,1:] # removes the unnamed index column"
   ]
  },
  {
   "cell_type": "markdown",
   "metadata": {},
   "source": [
    "## 1. Data Exploration"
   ]
  },
  {
   "cell_type": "code",
   "execution_count": 3,
   "metadata": {},
   "outputs": [
    {
     "data": {
      "text/html": [
       "<div>\n",
       "<style scoped>\n",
       "    .dataframe tbody tr th:only-of-type {\n",
       "        vertical-align: middle;\n",
       "    }\n",
       "\n",
       "    .dataframe tbody tr th {\n",
       "        vertical-align: top;\n",
       "    }\n",
       "\n",
       "    .dataframe thead th {\n",
       "        text-align: right;\n",
       "    }\n",
       "</style>\n",
       "<table border=\"1\" class=\"dataframe\">\n",
       "  <thead>\n",
       "    <tr style=\"text-align: right;\">\n",
       "      <th></th>\n",
       "      <th>ID</th>\n",
       "      <th>Title</th>\n",
       "      <th>Year</th>\n",
       "      <th>Age</th>\n",
       "      <th>Rotten Tomatoes</th>\n",
       "      <th>Netflix</th>\n",
       "      <th>Hulu</th>\n",
       "      <th>Prime Video</th>\n",
       "      <th>Disney+</th>\n",
       "      <th>Type</th>\n",
       "    </tr>\n",
       "  </thead>\n",
       "  <tbody>\n",
       "    <tr>\n",
       "      <th>0</th>\n",
       "      <td>1</td>\n",
       "      <td>The Irishman</td>\n",
       "      <td>2019</td>\n",
       "      <td>18+</td>\n",
       "      <td>98/100</td>\n",
       "      <td>1</td>\n",
       "      <td>0</td>\n",
       "      <td>0</td>\n",
       "      <td>0</td>\n",
       "      <td>0</td>\n",
       "    </tr>\n",
       "    <tr>\n",
       "      <th>1</th>\n",
       "      <td>2</td>\n",
       "      <td>Dangal</td>\n",
       "      <td>2016</td>\n",
       "      <td>7+</td>\n",
       "      <td>97/100</td>\n",
       "      <td>1</td>\n",
       "      <td>0</td>\n",
       "      <td>0</td>\n",
       "      <td>0</td>\n",
       "      <td>0</td>\n",
       "    </tr>\n",
       "    <tr>\n",
       "      <th>2</th>\n",
       "      <td>3</td>\n",
       "      <td>David Attenborough: A Life on Our Planet</td>\n",
       "      <td>2020</td>\n",
       "      <td>7+</td>\n",
       "      <td>95/100</td>\n",
       "      <td>1</td>\n",
       "      <td>0</td>\n",
       "      <td>0</td>\n",
       "      <td>0</td>\n",
       "      <td>0</td>\n",
       "    </tr>\n",
       "    <tr>\n",
       "      <th>3</th>\n",
       "      <td>4</td>\n",
       "      <td>Lagaan: Once Upon a Time in India</td>\n",
       "      <td>2001</td>\n",
       "      <td>7+</td>\n",
       "      <td>94/100</td>\n",
       "      <td>1</td>\n",
       "      <td>0</td>\n",
       "      <td>0</td>\n",
       "      <td>0</td>\n",
       "      <td>0</td>\n",
       "    </tr>\n",
       "    <tr>\n",
       "      <th>4</th>\n",
       "      <td>5</td>\n",
       "      <td>Roma</td>\n",
       "      <td>2018</td>\n",
       "      <td>18+</td>\n",
       "      <td>94/100</td>\n",
       "      <td>1</td>\n",
       "      <td>0</td>\n",
       "      <td>0</td>\n",
       "      <td>0</td>\n",
       "      <td>0</td>\n",
       "    </tr>\n",
       "  </tbody>\n",
       "</table>\n",
       "</div>"
      ],
      "text/plain": [
       "   ID                                     Title  Year  Age Rotten Tomatoes  \\\n",
       "0   1                              The Irishman  2019  18+          98/100   \n",
       "1   2                                    Dangal  2016   7+          97/100   \n",
       "2   3  David Attenborough: A Life on Our Planet  2020   7+          95/100   \n",
       "3   4         Lagaan: Once Upon a Time in India  2001   7+          94/100   \n",
       "4   5                                      Roma  2018  18+          94/100   \n",
       "\n",
       "   Netflix  Hulu  Prime Video  Disney+  Type  \n",
       "0        1     0            0        0     0  \n",
       "1        1     0            0        0     0  \n",
       "2        1     0            0        0     0  \n",
       "3        1     0            0        0     0  \n",
       "4        1     0            0        0     0  "
      ]
     },
     "execution_count": 3,
     "metadata": {},
     "output_type": "execute_result"
    }
   ],
   "source": [
    "df.head()"
   ]
  },
  {
   "cell_type": "code",
   "execution_count": 4,
   "metadata": {},
   "outputs": [
    {
     "name": "stdout",
     "output_type": "stream",
     "text": [
      "<class 'pandas.core.frame.DataFrame'>\n",
      "RangeIndex: 9515 entries, 0 to 9514\n",
      "Data columns (total 10 columns):\n",
      " #   Column           Non-Null Count  Dtype \n",
      "---  ------           --------------  ----- \n",
      " 0   ID               9515 non-null   int64 \n",
      " 1   Title            9515 non-null   object\n",
      " 2   Year             9515 non-null   int64 \n",
      " 3   Age              5338 non-null   object\n",
      " 4   Rotten Tomatoes  9508 non-null   object\n",
      " 5   Netflix          9515 non-null   int64 \n",
      " 6   Hulu             9515 non-null   int64 \n",
      " 7   Prime Video      9515 non-null   int64 \n",
      " 8   Disney+          9515 non-null   int64 \n",
      " 9   Type             9515 non-null   int64 \n",
      "dtypes: int64(7), object(3)\n",
      "memory usage: 743.5+ KB\n"
     ]
    }
   ],
   "source": [
    "df.info()"
   ]
  },
  {
   "cell_type": "code",
   "execution_count": 5,
   "metadata": {},
   "outputs": [
    {
     "data": {
      "text/plain": [
       "array([0])"
      ]
     },
     "execution_count": 5,
     "metadata": {},
     "output_type": "execute_result"
    }
   ],
   "source": [
    "df.Type.unique()"
   ]
  },
  {
   "cell_type": "markdown",
   "metadata": {},
   "source": [
    "#### Find Missing Values in the Data"
   ]
  },
  {
   "cell_type": "code",
   "execution_count": 6,
   "metadata": {},
   "outputs": [
    {
     "data": {
      "text/html": [
       "<div>\n",
       "<style scoped>\n",
       "    .dataframe tbody tr th:only-of-type {\n",
       "        vertical-align: middle;\n",
       "    }\n",
       "\n",
       "    .dataframe tbody tr th {\n",
       "        vertical-align: top;\n",
       "    }\n",
       "\n",
       "    .dataframe thead th {\n",
       "        text-align: right;\n",
       "    }\n",
       "</style>\n",
       "<table border=\"1\" class=\"dataframe\">\n",
       "  <thead>\n",
       "    <tr style=\"text-align: right;\">\n",
       "      <th></th>\n",
       "      <th>miss_count</th>\n",
       "      <th>miss_%</th>\n",
       "    </tr>\n",
       "  </thead>\n",
       "  <tbody>\n",
       "    <tr>\n",
       "      <th>ID</th>\n",
       "      <td>0</td>\n",
       "      <td>0.000000</td>\n",
       "    </tr>\n",
       "    <tr>\n",
       "      <th>Title</th>\n",
       "      <td>0</td>\n",
       "      <td>0.000000</td>\n",
       "    </tr>\n",
       "    <tr>\n",
       "      <th>Year</th>\n",
       "      <td>0</td>\n",
       "      <td>0.000000</td>\n",
       "    </tr>\n",
       "    <tr>\n",
       "      <th>Age</th>\n",
       "      <td>4177</td>\n",
       "      <td>43.899107</td>\n",
       "    </tr>\n",
       "    <tr>\n",
       "      <th>Rotten Tomatoes</th>\n",
       "      <td>7</td>\n",
       "      <td>0.073568</td>\n",
       "    </tr>\n",
       "    <tr>\n",
       "      <th>Netflix</th>\n",
       "      <td>0</td>\n",
       "      <td>0.000000</td>\n",
       "    </tr>\n",
       "    <tr>\n",
       "      <th>Hulu</th>\n",
       "      <td>0</td>\n",
       "      <td>0.000000</td>\n",
       "    </tr>\n",
       "    <tr>\n",
       "      <th>Prime Video</th>\n",
       "      <td>0</td>\n",
       "      <td>0.000000</td>\n",
       "    </tr>\n",
       "    <tr>\n",
       "      <th>Disney+</th>\n",
       "      <td>0</td>\n",
       "      <td>0.000000</td>\n",
       "    </tr>\n",
       "    <tr>\n",
       "      <th>Type</th>\n",
       "      <td>0</td>\n",
       "      <td>0.000000</td>\n",
       "    </tr>\n",
       "  </tbody>\n",
       "</table>\n",
       "</div>"
      ],
      "text/plain": [
       "                 miss_count     miss_%\n",
       "ID                        0   0.000000\n",
       "Title                     0   0.000000\n",
       "Year                      0   0.000000\n",
       "Age                    4177  43.899107\n",
       "Rotten Tomatoes           7   0.073568\n",
       "Netflix                   0   0.000000\n",
       "Hulu                      0   0.000000\n",
       "Prime Video               0   0.000000\n",
       "Disney+                   0   0.000000\n",
       "Type                      0   0.000000"
      ]
     },
     "execution_count": 6,
     "metadata": {},
     "output_type": "execute_result"
    }
   ],
   "source": [
    "miss = pd.DataFrame(df.isnull().sum())\n",
    "miss = miss.rename(columns={0:\"miss_count\"})\n",
    "miss[\"miss_%\"] = (miss.miss_count/len(df.ID))*100\n",
    "miss"
   ]
  },
  {
   "cell_type": "markdown",
   "metadata": {},
   "source": [
    "There are 4k missing values in the `Age` column, which is nearly half of the dataset. The `Rotten Tomatoes` Column is only missing 7 rows so we will just drop those. The remaining columns have no nulls."
   ]
  },
  {
   "cell_type": "code",
   "execution_count": 7,
   "metadata": {},
   "outputs": [],
   "source": [
    "df.dropna(subset=['Rotten Tomatoes'], inplace=True)"
   ]
  },
  {
   "cell_type": "code",
   "execution_count": 8,
   "metadata": {},
   "outputs": [
    {
     "name": "stdout",
     "output_type": "stream",
     "text": [
      "Age\n",
      "18+    2276\n",
      "7+     1090\n",
      "13+     998\n",
      "all     698\n",
      "16+     276\n",
      "Name: count, dtype: int64\n"
     ]
    }
   ],
   "source": [
    "# take a closer look at the age column\n",
    "print(df['Age'].value_counts())\n",
    "dist = df['Age'].value_counts(normalize=True)"
   ]
  },
  {
   "cell_type": "markdown",
   "metadata": {},
   "source": [
    "There are currently five different categories in the `Age` column. These represent the recommended age range for viewers. Since it is a string, we cannot apply null padding using the median value. The next best option would be to use the most common value which appears to be 18+, but that would mean around 75% of the movies in this dataset are rated R. Instead, we either want to fill with the same distribution of labels that is currently present, or set them to 'unknown'. "
   ]
  },
  {
   "cell_type": "code",
   "execution_count": 9,
   "metadata": {},
   "outputs": [],
   "source": [
    "# Apply a similar distribution of values to the Age column\n",
    "# Stack Overflow: https://stackoverflow.com/questions/44867219/pandas-filling-na-values-to-be-filled-based-on-distribution-of-existing-values \n",
    "missing = df['Age'].isnull()\n",
    "df.loc[missing,'Age'] = np.random.choice(dist.index, size=len(df[missing]), p=dist.values)"
   ]
  },
  {
   "cell_type": "code",
   "execution_count": 10,
   "metadata": {},
   "outputs": [
    {
     "name": "stdout",
     "output_type": "stream",
     "text": [
      "Age\n",
      "False    9508\n",
      "Name: count, dtype: int64\n"
     ]
    }
   ],
   "source": [
    "# Make sure it worked\n",
    "print(df['Age'].isnull().value_counts())"
   ]
  },
  {
   "cell_type": "code",
   "execution_count": 11,
   "metadata": {},
   "outputs": [],
   "source": [
    "df.reset_index(inplace=True, drop=True)\n",
    "# Convert year to an object type\n",
    "df.Year = df.Year.astype(\"object\")"
   ]
  },
  {
   "cell_type": "code",
   "execution_count": 12,
   "metadata": {},
   "outputs": [
    {
     "name": "stdout",
     "output_type": "stream",
     "text": [
      "<class 'pandas.core.frame.DataFrame'>\n",
      "RangeIndex: 9508 entries, 0 to 9507\n",
      "Data columns (total 10 columns):\n",
      " #   Column           Non-Null Count  Dtype \n",
      "---  ------           --------------  ----- \n",
      " 0   ID               9508 non-null   int64 \n",
      " 1   Title            9508 non-null   object\n",
      " 2   Year             9508 non-null   object\n",
      " 3   Age              9508 non-null   object\n",
      " 4   Rotten Tomatoes  9508 non-null   object\n",
      " 5   Netflix          9508 non-null   int64 \n",
      " 6   Hulu             9508 non-null   int64 \n",
      " 7   Prime Video      9508 non-null   int64 \n",
      " 8   Disney+          9508 non-null   int64 \n",
      " 9   Type             9508 non-null   int64 \n",
      "dtypes: int64(6), object(4)\n",
      "memory usage: 742.9+ KB\n"
     ]
    }
   ],
   "source": [
    "df.info()"
   ]
  },
  {
   "cell_type": "markdown",
   "metadata": {},
   "source": [
    "#### Exploring the Clean Data"
   ]
  },
  {
   "cell_type": "code",
   "execution_count": 13,
   "metadata": {},
   "outputs": [
    {
     "name": "stderr",
     "output_type": "stream",
     "text": [
      "/opt/anaconda3/envs/RecSystem/lib/python3.13/site-packages/seaborn/_oldcore.py:1119: FutureWarning: use_inf_as_na option is deprecated and will be removed in a future version. Convert inf values to NaN before operating instead.\n",
      "  with pd.option_context('mode.use_inf_as_na', True):\n"
     ]
    },
    {
     "data": {
      "text/plain": [
       "<seaborn.axisgrid.FacetGrid at 0x15c836510>"
      ]
     },
     "execution_count": 13,
     "metadata": {},
     "output_type": "execute_result"
    },
    {
     "data": {
      "text/plain": [
       "<Figure size 2000x500 with 0 Axes>"
      ]
     },
     "metadata": {},
     "output_type": "display_data"
    },
    {
     "data": {
      "image/png": "[encoded data removed]",
      "text/plain": [
       "<Figure size 500x500 with 1 Axes>"
      ]
     },
     "metadata": {},
     "output_type": "display_data"
    }
   ],
   "source": [
    "# Check distribution of the years\n",
    "plt.figure(figsize=(20,5))\n",
    "sns.set_theme(color_codes=\"g\")\n",
    "sns.displot(df['Year'])"
   ]
  },
  {
   "cell_type": "markdown",
   "metadata": {},
   "source": [
    "We can see that most of the movies in this dataset were made between 2000 and 2020."
   ]
  },
  {
   "cell_type": "code",
   "execution_count": 14,
   "metadata": {},
   "outputs": [
    {
     "name": "stderr",
     "output_type": "stream",
     "text": [
      "/opt/anaconda3/envs/RecSystem/lib/python3.13/site-packages/seaborn/_oldcore.py:1119: FutureWarning: use_inf_as_na option is deprecated and will be removed in a future version. Convert inf values to NaN before operating instead.\n",
      "  with pd.option_context('mode.use_inf_as_na', True):\n"
     ]
    },
    {
     "data": {
      "text/plain": [
       "<Figure size 2000x2000 with 0 Axes>"
      ]
     },
     "metadata": {},
     "output_type": "display_data"
    },
    {
     "data": {
      "image/png": "[encoded data removed]",
      "text/plain": [
       "<Figure size 500x500 with 1 Axes>"
      ]
     },
     "metadata": {},
     "output_type": "display_data"
    }
   ],
   "source": [
    "# plot distribution of Rotten Tomatoes scores\n",
    "plt.figure(figsize=(20,20))\n",
    "sns.displot(df['Rotten Tomatoes'])\n",
    "plt.tick_params(\n",
    "        axis='x',\n",
    "        which='both',\n",
    "        bottom=False,\n",
    "        top=False,\n",
    "        labelbottom=False\n",
    ")\n",
    "plt.show()"
   ]
  },
  {
   "cell_type": "markdown",
   "metadata": {},
   "source": [
    "Rottom tomatoes scores range from 0 to 100%. This looks pretty close to a normal distribution, with roughly 60% of the values being between 40 and 60 percent. It is slightly skewed towards the right, meaning more scores are above 50 than below, but it is pretty close. "
   ]
  },
  {
   "cell_type": "markdown",
   "metadata": {},
   "source": [
    "#### Get the Distribution of Movies on each Streaming Platform"
   ]
  },
  {
   "cell_type": "code",
   "execution_count": 15,
   "metadata": {},
   "outputs": [],
   "source": [
    "# Define a function to calculate the movies in different Streaming platforms\n",
    "def m_cnt(plat, count=False):\n",
    "    if count==False:\n",
    "        print('Platform {} Count: {}'. format(plat, df[plat].sum()))\n",
    "    else:\n",
    "        return df[plat].sum()\n"
   ]
  },
  {
   "cell_type": "code",
   "execution_count": 16,
   "metadata": {},
   "outputs": [
    {
     "name": "stdout",
     "output_type": "stream",
     "text": [
      "Platform Netflix Count: 3688\n",
      "Platform Hulu Count: 1047\n",
      "Platform Prime Video Count: 4113\n",
      "Platform Disney+ Count: 922\n"
     ]
    }
   ],
   "source": [
    "# Let's see count of movies/shows of each streaming platform\n",
    "m_cnt('Netflix')\n",
    "m_cnt('Hulu')\n",
    "m_cnt('Prime Video')\n",
    "m_cnt('Disney+')"
   ]
  },
  {
   "cell_type": "markdown",
   "metadata": {},
   "source": [
    "Netflix = 3,688\n",
    "\n",
    "Hulu = 1,047\n",
    "\n",
    "Prime Video = 4,113\n",
    "\n",
    "Disney+ = 922"
   ]
  },
  {
   "cell_type": "code",
   "execution_count": 17,
   "metadata": {},
   "outputs": [
    {
     "data": {
      "image/png": "[encoded data removed]",
      "text/plain": [
       "<Figure size 640x480 with 1 Axes>"
      ]
     },
     "metadata": {},
     "output_type": "display_data"
    }
   ],
   "source": [
    "# Movies on each platform\n",
    "lab = 'Prime Video','Netflix', 'Hulu', 'Disney'\n",
    "s = [m_cnt('Prime Video', count=True),\n",
    "     m_cnt('Netflix', count=True),\n",
    "     m_cnt('Hulu', count=True),\n",
    "     m_cnt('Disney+', count=True)]\n",
    "\n",
    "explode = (0.1, 0.1, 0.1, 0.1)\n",
    "\n",
    "#plotting\n",
    "fig1, ax1 = plt.subplots()\n",
    "ax1.pie(s,\n",
    "       labels = lab,\n",
    "       autopct = '%1.1f%%',\n",
    "       explode = explode,\n",
    "       shadow = True,\n",
    "       startangle = 100)\n",
    "\n",
    "ax1.axis = ('equal')\n",
    "plt.show()\n"
   ]
  },
  {
   "cell_type": "markdown",
   "metadata": {},
   "source": [
    "#### Rotten Tomatoes Rating Distributions for Each Platform"
   ]
  },
  {
   "cell_type": "code",
   "execution_count": 18,
   "metadata": {},
   "outputs": [],
   "source": [
    " # melting platform columns to create visualization\n",
    "df2 = pd.melt(df, id_vars=[\"ID\",\"Title\",\"Year\", \"Age\", \"Rotten Tomatoes\", \"Type\"], var_name=\"platform\")\n",
    "df2 = df2[df2.value==1]\n",
    "df2.drop(columns=[\"value\"],axis=1,inplace=True)"
   ]
  },
  {
   "cell_type": "code",
   "execution_count": 19,
   "metadata": {},
   "outputs": [
    {
     "data": {
      "text/html": [
       "<div>\n",
       "<style scoped>\n",
       "    .dataframe tbody tr th:only-of-type {\n",
       "        vertical-align: middle;\n",
       "    }\n",
       "\n",
       "    .dataframe tbody tr th {\n",
       "        vertical-align: top;\n",
       "    }\n",
       "\n",
       "    .dataframe thead th {\n",
       "        text-align: right;\n",
       "    }\n",
       "</style>\n",
       "<table border=\"1\" class=\"dataframe\">\n",
       "  <thead>\n",
       "    <tr style=\"text-align: right;\">\n",
       "      <th></th>\n",
       "      <th>ID</th>\n",
       "      <th>Title</th>\n",
       "      <th>Year</th>\n",
       "      <th>Age</th>\n",
       "      <th>Rotten Tomatoes</th>\n",
       "      <th>Type</th>\n",
       "      <th>platform</th>\n",
       "    </tr>\n",
       "  </thead>\n",
       "  <tbody>\n",
       "    <tr>\n",
       "      <th>0</th>\n",
       "      <td>1</td>\n",
       "      <td>The Irishman</td>\n",
       "      <td>2019</td>\n",
       "      <td>18+</td>\n",
       "      <td>98/100</td>\n",
       "      <td>0</td>\n",
       "      <td>Netflix</td>\n",
       "    </tr>\n",
       "    <tr>\n",
       "      <th>1</th>\n",
       "      <td>2</td>\n",
       "      <td>Dangal</td>\n",
       "      <td>2016</td>\n",
       "      <td>7+</td>\n",
       "      <td>97/100</td>\n",
       "      <td>0</td>\n",
       "      <td>Netflix</td>\n",
       "    </tr>\n",
       "    <tr>\n",
       "      <th>2</th>\n",
       "      <td>3</td>\n",
       "      <td>David Attenborough: A Life on Our Planet</td>\n",
       "      <td>2020</td>\n",
       "      <td>7+</td>\n",
       "      <td>95/100</td>\n",
       "      <td>0</td>\n",
       "      <td>Netflix</td>\n",
       "    </tr>\n",
       "    <tr>\n",
       "      <th>3</th>\n",
       "      <td>4</td>\n",
       "      <td>Lagaan: Once Upon a Time in India</td>\n",
       "      <td>2001</td>\n",
       "      <td>7+</td>\n",
       "      <td>94/100</td>\n",
       "      <td>0</td>\n",
       "      <td>Netflix</td>\n",
       "    </tr>\n",
       "    <tr>\n",
       "      <th>4</th>\n",
       "      <td>5</td>\n",
       "      <td>Roma</td>\n",
       "      <td>2018</td>\n",
       "      <td>18+</td>\n",
       "      <td>94/100</td>\n",
       "      <td>0</td>\n",
       "      <td>Netflix</td>\n",
       "    </tr>\n",
       "  </tbody>\n",
       "</table>\n",
       "</div>"
      ],
      "text/plain": [
       "   ID                                     Title  Year  Age Rotten Tomatoes  \\\n",
       "0   1                              The Irishman  2019  18+          98/100   \n",
       "1   2                                    Dangal  2016   7+          97/100   \n",
       "2   3  David Attenborough: A Life on Our Planet  2020   7+          95/100   \n",
       "3   4         Lagaan: Once Upon a Time in India  2001   7+          94/100   \n",
       "4   5                                      Roma  2018  18+          94/100   \n",
       "\n",
       "   Type platform  \n",
       "0     0  Netflix  \n",
       "1     0  Netflix  \n",
       "2     0  Netflix  \n",
       "3     0  Netflix  \n",
       "4     0  Netflix  "
      ]
     },
     "execution_count": 19,
     "metadata": {},
     "output_type": "execute_result"
    }
   ],
   "source": [
    "df2.head()"
   ]
  },
  {
   "cell_type": "code",
   "execution_count": 20,
   "metadata": {},
   "outputs": [
    {
     "data": {
      "image/png": "[encoded data removed]",
      "text/plain": [
       "<Figure size 1200x300 with 4 Axes>"
      ]
     },
     "metadata": {},
     "output_type": "display_data"
    }
   ],
   "source": [
    "# Distribution of IMDB rating in different platform\n",
    "g = sns.FacetGrid(df2, col = \"platform\")\n",
    "g.map(plt.hist, \"Rotten Tomatoes\")\n",
    "plt.show()"
   ]
  },
  {
   "cell_type": "markdown",
   "metadata": {},
   "source": [
    "The platforms with the most data also have the richest distributions of reviews. In general, it looks like a Prime Video movie is the most likely to receive a rating higher than 50%, while the Disney+ platform is more likely to receive a rating below 50%. "
   ]
  },
  {
   "cell_type": "markdown",
   "metadata": {},
   "source": [
    "## Building the Recommender Systems"
   ]
  },
  {
   "cell_type": "markdown",
   "metadata": {},
   "source": [
    "A **recommendation system** is a class of machine learning that uses data to help predict, narrow down, and fid what people are looking for among an exponentialy growing number of options. The system uses data like past purchases, search history (cookies), demographic information, and other factors to suggest the best products for each user. There are two main types of recommendation systems: \n",
    "1) **Collaborative Filtering:** an algorithm that recommends items based on preferential information collected from many users. It is inspired by the concept that a group of people who make similar decisions in the past are highly likely to make similar decisions in the future.\n",
    "\n",
    "2) **Content Filtering:** an algorithm that uses attributes or features of an item to recommend other similar items. The underlying idea for this approach is that you will continue to prefer things that are similar to what you currently like. "
   ]
  },
  {
   "cell_type": "markdown",
   "metadata": {},
   "source": [
    "### 1. Recommender System Using only the Numerical Column"
   ]
  },
  {
   "cell_type": "code",
   "execution_count": 21,
   "metadata": {},
   "outputs": [],
   "source": [
    "ndf = df.select_dtypes(include=['float64', 'int64'])"
   ]
  },
  {
   "cell_type": "markdown",
   "metadata": {},
   "source": [
    "#### Scaling the numerical variable using a min-max scaler to reduce model complexity and training time"
   ]
  },
  {
   "cell_type": "code",
   "execution_count": 22,
   "metadata": {},
   "outputs": [
    {
     "data": {
      "text/html": [
       "<div>\n",
       "<style scoped>\n",
       "    .dataframe tbody tr th:only-of-type {\n",
       "        vertical-align: middle;\n",
       "    }\n",
       "\n",
       "    .dataframe tbody tr th {\n",
       "        vertical-align: top;\n",
       "    }\n",
       "\n",
       "    .dataframe thead th {\n",
       "        text-align: right;\n",
       "    }\n",
       "</style>\n",
       "<table border=\"1\" class=\"dataframe\">\n",
       "  <thead>\n",
       "    <tr style=\"text-align: right;\">\n",
       "      <th></th>\n",
       "      <th>ID</th>\n",
       "      <th>Netflix</th>\n",
       "      <th>Hulu</th>\n",
       "      <th>Prime Video</th>\n",
       "      <th>Disney+</th>\n",
       "      <th>Type</th>\n",
       "    </tr>\n",
       "  </thead>\n",
       "  <tbody>\n",
       "    <tr>\n",
       "      <th>0</th>\n",
       "      <td>0.000000</td>\n",
       "      <td>1.0</td>\n",
       "      <td>0.0</td>\n",
       "      <td>0.0</td>\n",
       "      <td>0.0</td>\n",
       "      <td>0.0</td>\n",
       "    </tr>\n",
       "    <tr>\n",
       "      <th>1</th>\n",
       "      <td>0.000105</td>\n",
       "      <td>1.0</td>\n",
       "      <td>0.0</td>\n",
       "      <td>0.0</td>\n",
       "      <td>0.0</td>\n",
       "      <td>0.0</td>\n",
       "    </tr>\n",
       "    <tr>\n",
       "      <th>2</th>\n",
       "      <td>0.000210</td>\n",
       "      <td>1.0</td>\n",
       "      <td>0.0</td>\n",
       "      <td>0.0</td>\n",
       "      <td>0.0</td>\n",
       "      <td>0.0</td>\n",
       "    </tr>\n",
       "    <tr>\n",
       "      <th>3</th>\n",
       "      <td>0.000315</td>\n",
       "      <td>1.0</td>\n",
       "      <td>0.0</td>\n",
       "      <td>0.0</td>\n",
       "      <td>0.0</td>\n",
       "      <td>0.0</td>\n",
       "    </tr>\n",
       "    <tr>\n",
       "      <th>4</th>\n",
       "      <td>0.000420</td>\n",
       "      <td>1.0</td>\n",
       "      <td>0.0</td>\n",
       "      <td>0.0</td>\n",
       "      <td>0.0</td>\n",
       "      <td>0.0</td>\n",
       "    </tr>\n",
       "  </tbody>\n",
       "</table>\n",
       "</div>"
      ],
      "text/plain": [
       "         ID  Netflix  Hulu  Prime Video  Disney+  Type\n",
       "0  0.000000      1.0   0.0          0.0      0.0   0.0\n",
       "1  0.000105      1.0   0.0          0.0      0.0   0.0\n",
       "2  0.000210      1.0   0.0          0.0      0.0   0.0\n",
       "3  0.000315      1.0   0.0          0.0      0.0   0.0\n",
       "4  0.000420      1.0   0.0          0.0      0.0   0.0"
      ]
     },
     "execution_count": 22,
     "metadata": {},
     "output_type": "execute_result"
    }
   ],
   "source": [
    "#importing minmax scaler\n",
    "from sklearn import preprocessing\n",
    "\n",
    "# Create MinMaxScaler Object\n",
    "scaler = preprocessing.MinMaxScaler(feature_range=(0, 1))\n",
    "\n",
    "# Create dataframe after transformation\n",
    "ndfmx = pd.DataFrame((scaler.fit_transform(ndf)))\n",
    "\n",
    "# assign column names\n",
    "ndfmx.columns=ndf.columns\n",
    "\n",
    "# Show initial 5 records\n",
    "ndfmx.head()"
   ]
  },
  {
   "cell_type": "markdown",
   "metadata": {},
   "source": [
    "#### Compute similarity using Cosine Similarity"
   ]
  },
  {
   "cell_type": "code",
   "execution_count": 23,
   "metadata": {},
   "outputs": [],
   "source": [
    "# Import cosine similarity\n",
    "from sklearn.metrics.pairwise import cosine_similarity\n",
    "\n",
    "# Compute the cosine similarity\n",
    "sig = cosine_similarity(ndfmx, ndfmx)\n",
    "\n",
    "# Reverse mapping of indices and movie titles\n",
    "indices = pd.Series(df.index, index=df['Title']).drop_duplicates()\n"
   ]
  },
  {
   "cell_type": "code",
   "execution_count": 24,
   "metadata": {},
   "outputs": [
    {
     "data": {
      "text/plain": [
       "Title\n",
       "The Irishman                                0\n",
       "Dangal                                      1\n",
       "David Attenborough: A Life on Our Planet    2\n",
       "Lagaan: Once Upon a Time in India           3\n",
       "Roma                                        4\n",
       "dtype: int64"
      ]
     },
     "execution_count": 24,
     "metadata": {},
     "output_type": "execute_result"
    }
   ],
   "source": [
    "indices.head()"
   ]
  },
  {
   "cell_type": "markdown",
   "metadata": {},
   "source": [
    "#### Write a function to get recommendations based on the similarity score\n",
    "* The function will take in two arguments\n",
    "    1) movie title\n",
    "    2) similarity score\n",
    "* Gets the pairwise similarity scores of all the movies\n",
    "* Sorts the similarity scores in descending order and converts them into a list\n",
    "* Gets the top 10 movies scores and indices and returns the titles from our original dataframe"
   ]
  },
  {
   "cell_type": "code",
   "execution_count": 25,
   "metadata": {},
   "outputs": [],
   "source": [
    "def give_rec(title, sig=sig):\n",
    "\n",
    "    # Get the index corresponding to original_title\n",
    "    idx = indices[title]\n",
    "\n",
    "    # Get the pairwise similarity scores\n",
    "    sig_scores = list(enumerate(sig[idx]))\n",
    "\n",
    "    # Sort the movies\n",
    "    sig_scores = sorted(sig_scores, key=lambda x: x[1], reverse=True)\n",
    "\n",
    "    # Scores of the 10 most similar movies\n",
    "    sig_scores = sig_scores[1:11]\n",
    "\n",
    "    # Movie indices\n",
    "    movie_indices = [i[0] for i in sig_scores]\n",
    "\n",
    "    # Top 10 most similar movies\n",
    "    return df['Title'].iloc[movie_indices]\n"
   ]
  },
  {
   "cell_type": "code",
   "execution_count": 28,
   "metadata": {},
   "outputs": [
    {
     "data": {
      "text/plain": [
       "8647                                  Hidden Figures\n",
       "8645                                         Ant-Man\n",
       "8648                                          Frozen\n",
       "8644                                         Aladdin\n",
       "8649    Star Wars: Episode III - Revenge of the Sith\n",
       "8643                                     Toy Story 2\n",
       "8650                                  Wreck-It Ralph\n",
       "8642                                      Big Hero 6\n",
       "8651                                   Incredibles 2\n",
       "8641                              The Princess Bride\n",
       "Name: Title, dtype: object"
      ]
     },
     "execution_count": 28,
     "metadata": {},
     "output_type": "execute_result"
    }
   ],
   "source": [
    "# Execute get_rec() function for getting recommendation\n",
    "give_rec(\"Moana\",sig = sig)"
   ]
  },
  {
   "cell_type": "markdown",
   "metadata": {},
   "source": [
    "With this approach, we are only using the platform, type, and ID to make a recommendation. It is not based on the rating of the movie, who the intended audience is, or even the genre. These additional features, which are usually categorical, will go a long way towards improving our recommender model. "
   ]
  },
  {
   "cell_type": "markdown",
   "metadata": {},
   "source": [
    "### 2. Recommender System Using Numerical and Textual Columns"
   ]
  },
  {
   "cell_type": "code",
   "execution_count": 29,
   "metadata": {},
   "outputs": [
    {
     "data": {
      "text/html": [
       "<div>\n",
       "<style scoped>\n",
       "    .dataframe tbody tr th:only-of-type {\n",
       "        vertical-align: middle;\n",
       "    }\n",
       "\n",
       "    .dataframe tbody tr th {\n",
       "        vertical-align: top;\n",
       "    }\n",
       "\n",
       "    .dataframe thead th {\n",
       "        text-align: right;\n",
       "    }\n",
       "</style>\n",
       "<table border=\"1\" class=\"dataframe\">\n",
       "  <thead>\n",
       "    <tr style=\"text-align: right;\">\n",
       "      <th></th>\n",
       "      <th>ID</th>\n",
       "      <th>Title</th>\n",
       "      <th>Year</th>\n",
       "      <th>Age</th>\n",
       "      <th>Rotten Tomatoes</th>\n",
       "      <th>Netflix</th>\n",
       "      <th>Hulu</th>\n",
       "      <th>Prime Video</th>\n",
       "      <th>Disney+</th>\n",
       "      <th>Type</th>\n",
       "    </tr>\n",
       "  </thead>\n",
       "  <tbody>\n",
       "    <tr>\n",
       "      <th>0</th>\n",
       "      <td>1</td>\n",
       "      <td>The Irishman</td>\n",
       "      <td>2019</td>\n",
       "      <td>18+</td>\n",
       "      <td>98/100</td>\n",
       "      <td>1</td>\n",
       "      <td>0</td>\n",
       "      <td>0</td>\n",
       "      <td>0</td>\n",
       "      <td>0</td>\n",
       "    </tr>\n",
       "    <tr>\n",
       "      <th>1</th>\n",
       "      <td>2</td>\n",
       "      <td>Dangal</td>\n",
       "      <td>2016</td>\n",
       "      <td>7+</td>\n",
       "      <td>97/100</td>\n",
       "      <td>1</td>\n",
       "      <td>0</td>\n",
       "      <td>0</td>\n",
       "      <td>0</td>\n",
       "      <td>0</td>\n",
       "    </tr>\n",
       "    <tr>\n",
       "      <th>2</th>\n",
       "      <td>3</td>\n",
       "      <td>David Attenborough: A Life on Our Planet</td>\n",
       "      <td>2020</td>\n",
       "      <td>7+</td>\n",
       "      <td>95/100</td>\n",
       "      <td>1</td>\n",
       "      <td>0</td>\n",
       "      <td>0</td>\n",
       "      <td>0</td>\n",
       "      <td>0</td>\n",
       "    </tr>\n",
       "    <tr>\n",
       "      <th>3</th>\n",
       "      <td>4</td>\n",
       "      <td>Lagaan: Once Upon a Time in India</td>\n",
       "      <td>2001</td>\n",
       "      <td>7+</td>\n",
       "      <td>94/100</td>\n",
       "      <td>1</td>\n",
       "      <td>0</td>\n",
       "      <td>0</td>\n",
       "      <td>0</td>\n",
       "      <td>0</td>\n",
       "    </tr>\n",
       "    <tr>\n",
       "      <th>4</th>\n",
       "      <td>5</td>\n",
       "      <td>Roma</td>\n",
       "      <td>2018</td>\n",
       "      <td>18+</td>\n",
       "      <td>94/100</td>\n",
       "      <td>1</td>\n",
       "      <td>0</td>\n",
       "      <td>0</td>\n",
       "      <td>0</td>\n",
       "      <td>0</td>\n",
       "    </tr>\n",
       "  </tbody>\n",
       "</table>\n",
       "</div>"
      ],
      "text/plain": [
       "   ID                                     Title  Year  Age Rotten Tomatoes  \\\n",
       "0   1                              The Irishman  2019  18+          98/100   \n",
       "1   2                                    Dangal  2016   7+          97/100   \n",
       "2   3  David Attenborough: A Life on Our Planet  2020   7+          95/100   \n",
       "3   4         Lagaan: Once Upon a Time in India  2001   7+          94/100   \n",
       "4   5                                      Roma  2018  18+          94/100   \n",
       "\n",
       "   Netflix  Hulu  Prime Video  Disney+  Type  \n",
       "0        1     0            0        0     0  \n",
       "1        1     0            0        0     0  \n",
       "2        1     0            0        0     0  \n",
       "3        1     0            0        0     0  \n",
       "4        1     0            0        0     0  "
      ]
     },
     "execution_count": 29,
     "metadata": {},
     "output_type": "execute_result"
    }
   ],
   "source": [
    "df.head()"
   ]
  },
  {
   "cell_type": "markdown",
   "metadata": {},
   "source": [
    "For this approach, we will create a new column that stores all of the text information as a long concatenated string. This information can then be passed into a TF-IDF Vectorizer to ceate a sparse matrix of all the words' TF-IDF scores. "
   ]
  },
  {
   "cell_type": "code",
   "execution_count": 42,
   "metadata": {},
   "outputs": [],
   "source": [
    "# this function performs all the important processing steps\n",
    "def preprocess(df):\n",
    "    # combine all the text columns\n",
    "    # First, select all object data types and store them in a list\n",
    "    s = list(df.select_dtypes(include=['object']).columns)\n",
    "    # Second, remove the ID and Title columns\n",
    "    s.remove('Title')\n",
    "    # Third, Join all text/object columns using commas into a single column\n",
    "    df['all_text'] = df[s].apply(lambda x: ','.join(x.dropna().astype(str)),axis=1)\n",
    "\n",
    "\n",
    "    # Build TfidfVectorizer from the text\n",
    "    cv = TfidfVectorizer(lowercase=True, stop_words='english', ngram_range=(1,1))\n",
    "    text_counts = cv.fit_transform(df['all_text'])\n",
    "\n",
    "    # Select numerical variables\n",
    "    ndf = df.select_dtypes(include=['float64', 'int64'])\n",
    "\n",
    "    # Scale numerical variables\n",
    "    scaler = preprocessing.MinMaxScaler(feature_range=(0,1))\n",
    "\n",
    "    # Apply scaler to our data and convert it into a dataframe\n",
    "    ndfmx = pd.DataFrame((scaler.fit_transform(ndf)))\n",
    "    ndfmx.columns=ndf.columns\n",
    "\n",
    "    # Add numerical variables in the TF-IDF vector\n",
    "    Netflix = ndfmx.Netflix.values[:, None]\n",
    "    X_train_dtm = hstack((text_counts, Netflix))\n",
    "    Hulu = ndfmx.Hulu.values[:, None]\n",
    "    X_train_dtm = hstack((X_train_dtm, Hulu))\n",
    "    Prime = ndfmx[\"Prime Video\"].values[:, None]\n",
    "    X_train_dtm = hstack((X_train_dtm, Prime))\n",
    "    Disney = ndfmx[\"Disney+\"].values[:, None]\n",
    "    X_train_dtm = hstack((X_train_dtm, Disney))\n",
    "\n",
    "    return X_train_dtm\n",
    "    "
   ]
  },
  {
   "cell_type": "markdown",
   "metadata": {},
   "source": [
    "#### Apply the Function to our Data and Create a Sparse Matrix"
   ]
  },
  {
   "cell_type": "code",
   "execution_count": 43,
   "metadata": {},
   "outputs": [
    {
     "data": {
      "text/plain": [
       "(9508, 194)"
      ]
     },
     "execution_count": 43,
     "metadata": {},
     "output_type": "execute_result"
    }
   ],
   "source": [
    "mat = preprocess(df)\n",
    "mat.shape"
   ]
  },
  {
   "cell_type": "markdown",
   "metadata": {},
   "source": [
    "#### Apply Cosine Similarity to Compute the Similarity Scores"
   ]
  },
  {
   "cell_type": "code",
   "execution_count": 44,
   "metadata": {},
   "outputs": [],
   "source": [
    "# Compute the sigmoid kernel\n",
    "sig2 = cosine_similarity(mat, mat)\n",
    "\n",
    "# Reverse the mapping of indices and movie titles\n",
    "indices = pd.Series(df.index, index=df['Title']).drop_duplicates()"
   ]
  },
  {
   "cell_type": "markdown",
   "metadata": {},
   "source": [
    "#### Get a Recommendation From the Improved System"
   ]
  },
  {
   "cell_type": "code",
   "execution_count": 45,
   "metadata": {},
   "outputs": [
    {
     "data": {
      "text/plain": [
       "8647                                  Hidden Figures\n",
       "8651                                   Incredibles 2\n",
       "8648                                          Frozen\n",
       "8650                                  Wreck-It Ralph\n",
       "8652                                         Tangled\n",
       "8653                                      Iron Man 3\n",
       "8649    Star Wars: Episode III - Revenge of the Sith\n",
       "8654                  The Nightmare Before Christmas\n",
       "9341                               Drain the Titanic\n",
       "9405                           Drain The Ocean: WWII\n",
       "Name: Title, dtype: object"
      ]
     },
     "execution_count": 45,
     "metadata": {},
     "output_type": "execute_result"
    }
   ],
   "source": [
    "give_rec('Moana', sig=sig2)"
   ]
  },
  {
   "cell_type": "markdown",
   "metadata": {},
   "source": [
    "## Conclusion\n",
    "\n",
    "This project was originally created to work with the same Kaggle dataset, only it had more features, including genre and IMDb ratings. While the new version of this streaming dataset is much less detailed, there are still a sufficient number of movie attributes provided to understand how the content-based filtering method was applied and improved with the addition of textual details. Next steps are to apply what I learned in this project to the recommendation system I will be building for the Personal Shopper AI project. "
   ]
  }
 ],
 "metadata": {
  "kernelspec": {
   "display_name": "RecSystem",
   "language": "python",
   "name": "python3"
  },
  "language_info": {
   "codemirror_mode": {
    "name": "ipython",
    "version": 3
   },
   "file_extension": ".py",
   "mimetype": "text/x-python",
   "name": "python",
   "nbconvert_exporter": "python",
   "pygments_lexer": "ipython3",
   "version": "3.13.2"
  }
 },
 "nbformat": 4,
 "nbformat_minor": 2
}
